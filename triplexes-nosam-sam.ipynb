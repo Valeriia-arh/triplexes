{
 "cells": [
  {
   "cell_type": "code",
   "execution_count": 1,
   "metadata": {},
   "outputs": [
    {
     "name": "stderr",
     "output_type": "stream",
     "text": [
      "C:\\Users\\Popova_Va\\AppData\\Local\\Continuum\\anaconda3\\lib\\site-packages\\sklearn\\ensemble\\weight_boosting.py:29: DeprecationWarning: numpy.core.umath_tests is an internal NumPy module and should not be imported. It will be removed in a future NumPy release.\n",
      "  from numpy.core.umath_tests import inner1d\n",
      "C:\\Users\\Popova_Va\\AppData\\Local\\Continuum\\anaconda3\\lib\\site-packages\\sklearn\\cross_validation.py:41: DeprecationWarning: This module was deprecated in version 0.18 in favor of the model_selection module into which all the refactored classes and functions are moved. Also note that the interface of the new CV iterators are different from that of this module. This module will be removed in 0.20.\n",
      "  \"This module will be removed in 0.20.\", DeprecationWarning)\n",
      "C:\\Users\\Popova_Va\\AppData\\Local\\Continuum\\anaconda3\\lib\\site-packages\\sklearn\\learning_curve.py:22: DeprecationWarning: This module was deprecated in version 0.18 in favor of the model_selection module into which all the functions are moved. This module will be removed in 0.20\n",
      "  DeprecationWarning)\n"
     ]
    }
   ],
   "source": [
    "from sklearn import ensemble, cross_validation, learning_curve, metrics\n",
    "from collections import Counter\n",
    "from sklearn.metrics import classification_report, accuracy_score\n",
    "\n",
    "from sklearn.model_selection import GroupKFold\n",
    "\n",
    "from sklearn.model_selection import GroupShuffleSplit\n",
    "import numpy as np\n",
    "import pandas as pd\n",
    "\n",
    "from matplotlib import pyplot as plt\n",
    "from sklearn.metrics import confusion_matrix\n",
    "from sklearn.model_selection import cross_val_score\n",
    "from scipy.stats.kde import gaussian_kde\n",
    "from scipy.optimize import brentq\n",
    "\n",
    "import itertools"
   ]
  },
  {
   "cell_type": "code",
   "execution_count": 2,
   "metadata": {},
   "outputs": [],
   "source": [
    "triplexes = pd.read_csv('basetriples_nosam.csv', header=0, sep='\\t')"
   ]
  },
  {
   "cell_type": "code",
   "execution_count": 3,
   "metadata": {},
   "outputs": [
    {
     "data": {
      "text/html": [
       "<div>\n",
       "<style scoped>\n",
       "    .dataframe tbody tr th:only-of-type {\n",
       "        vertical-align: middle;\n",
       "    }\n",
       "\n",
       "    .dataframe tbody tr th {\n",
       "        vertical-align: top;\n",
       "    }\n",
       "\n",
       "    .dataframe thead th {\n",
       "        text-align: right;\n",
       "    }\n",
       "</style>\n",
       "<table border=\"1\" class=\"dataframe\">\n",
       "  <thead>\n",
       "    <tr style=\"text-align: right;\">\n",
       "      <th></th>\n",
       "      <th>pdb_chain</th>\n",
       "      <th>type</th>\n",
       "      <th>dssrs</th>\n",
       "      <th>bps</th>\n",
       "      <th>dists</th>\n",
       "      <th>same12</th>\n",
       "      <th>local12</th>\n",
       "      <th>longrange12</th>\n",
       "      <th>same23</th>\n",
       "      <th>local23</th>\n",
       "      <th>...</th>\n",
       "      <th>h3p5</th>\n",
       "      <th>b3p5</th>\n",
       "      <th>i3p5</th>\n",
       "      <th>j3p5</th>\n",
       "      <th>lc3p5</th>\n",
       "      <th>li3p5</th>\n",
       "      <th>lp3p5</th>\n",
       "      <th>fl3p5</th>\n",
       "      <th>fed3p5</th>\n",
       "      <th>istriple</th>\n",
       "    </tr>\n",
       "  </thead>\n",
       "  <tbody>\n",
       "    <tr>\n",
       "      <th>0</th>\n",
       "      <td>1b23.cif1_R</td>\n",
       "      <td>110</td>\n",
       "      <td>R.4SU.8.R.G.15.R.PSU.55.</td>\n",
       "      <td>-_-_-</td>\n",
       "      <td>12.32_21.81_22.62</td>\n",
       "      <td>0</td>\n",
       "      <td>0</td>\n",
       "      <td>1</td>\n",
       "      <td>0</td>\n",
       "      <td>0</td>\n",
       "      <td>...</td>\n",
       "      <td>1</td>\n",
       "      <td>0</td>\n",
       "      <td>0</td>\n",
       "      <td>0</td>\n",
       "      <td>1</td>\n",
       "      <td>0</td>\n",
       "      <td>0</td>\n",
       "      <td>7</td>\n",
       "      <td>0</td>\n",
       "      <td>0</td>\n",
       "    </tr>\n",
       "    <tr>\n",
       "      <th>1</th>\n",
       "      <td>1b23.cif1_R</td>\n",
       "      <td>110</td>\n",
       "      <td>R.4SU.8.R.G.48.R.PSU.55.</td>\n",
       "      <td>cSS_-_-</td>\n",
       "      <td>4.06_19.17_22.62</td>\n",
       "      <td>1</td>\n",
       "      <td>0</td>\n",
       "      <td>0</td>\n",
       "      <td>0</td>\n",
       "      <td>0</td>\n",
       "      <td>...</td>\n",
       "      <td>1</td>\n",
       "      <td>0</td>\n",
       "      <td>0</td>\n",
       "      <td>0</td>\n",
       "      <td>1</td>\n",
       "      <td>0</td>\n",
       "      <td>0</td>\n",
       "      <td>7</td>\n",
       "      <td>0</td>\n",
       "      <td>0</td>\n",
       "    </tr>\n",
       "    <tr>\n",
       "      <th>2</th>\n",
       "      <td>1b23.cif1_R</td>\n",
       "      <td>110</td>\n",
       "      <td>R.4SU.8.R.MIA.37.R.G.48.</td>\n",
       "      <td>-_-_cSS</td>\n",
       "      <td>33.9_36.92_4.06</td>\n",
       "      <td>0</td>\n",
       "      <td>0</td>\n",
       "      <td>1</td>\n",
       "      <td>0</td>\n",
       "      <td>0</td>\n",
       "      <td>...</td>\n",
       "      <td>0</td>\n",
       "      <td>0</td>\n",
       "      <td>0</td>\n",
       "      <td>0</td>\n",
       "      <td>0</td>\n",
       "      <td>0</td>\n",
       "      <td>0</td>\n",
       "      <td>5</td>\n",
       "      <td>0</td>\n",
       "      <td>0</td>\n",
       "    </tr>\n",
       "    <tr>\n",
       "      <th>3</th>\n",
       "      <td>1b23.cif1_R</td>\n",
       "      <td>120</td>\n",
       "      <td>R.A.13.R.G.15.R.G.27.</td>\n",
       "      <td>-_-_-</td>\n",
       "      <td>10.88_28.24_19.46</td>\n",
       "      <td>1</td>\n",
       "      <td>0</td>\n",
       "      <td>0</td>\n",
       "      <td>0</td>\n",
       "      <td>0</td>\n",
       "      <td>...</td>\n",
       "      <td>1</td>\n",
       "      <td>0</td>\n",
       "      <td>0</td>\n",
       "      <td>0</td>\n",
       "      <td>1</td>\n",
       "      <td>0</td>\n",
       "      <td>0</td>\n",
       "      <td>9</td>\n",
       "      <td>1</td>\n",
       "      <td>0</td>\n",
       "    </tr>\n",
       "    <tr>\n",
       "      <th>4</th>\n",
       "      <td>1b23.cif1_R</td>\n",
       "      <td>120</td>\n",
       "      <td>R.A.9.R.U.25.R.A.46.</td>\n",
       "      <td>-_-_-</td>\n",
       "      <td>12.5_15.93_4.24</td>\n",
       "      <td>0</td>\n",
       "      <td>1</td>\n",
       "      <td>0</td>\n",
       "      <td>0</td>\n",
       "      <td>1</td>\n",
       "      <td>...</td>\n",
       "      <td>0</td>\n",
       "      <td>0</td>\n",
       "      <td>0</td>\n",
       "      <td>0</td>\n",
       "      <td>0</td>\n",
       "      <td>0</td>\n",
       "      <td>0</td>\n",
       "      <td>5</td>\n",
       "      <td>1</td>\n",
       "      <td>0</td>\n",
       "    </tr>\n",
       "  </tbody>\n",
       "</table>\n",
       "<p>5 rows × 477 columns</p>\n",
       "</div>"
      ],
      "text/plain": [
       "     pdb_chain  type                     dssrs      bps              dists  \\\n",
       "0  1b23.cif1_R   110  R.4SU.8.R.G.15.R.PSU.55.    -_-_-  12.32_21.81_22.62   \n",
       "1  1b23.cif1_R   110  R.4SU.8.R.G.48.R.PSU.55.  cSS_-_-   4.06_19.17_22.62   \n",
       "2  1b23.cif1_R   110  R.4SU.8.R.MIA.37.R.G.48.  -_-_cSS    33.9_36.92_4.06   \n",
       "3  1b23.cif1_R   120     R.A.13.R.G.15.R.G.27.    -_-_-  10.88_28.24_19.46   \n",
       "4  1b23.cif1_R   120      R.A.9.R.U.25.R.A.46.    -_-_-    12.5_15.93_4.24   \n",
       "\n",
       "   same12  local12  longrange12  same23  local23    ...     h3p5  b3p5  i3p5  \\\n",
       "0       0        0            1       0        0    ...        1     0     0   \n",
       "1       1        0            0       0        0    ...        1     0     0   \n",
       "2       0        0            1       0        0    ...        0     0     0   \n",
       "3       1        0            0       0        0    ...        1     0     0   \n",
       "4       0        1            0       0        1    ...        0     0     0   \n",
       "\n",
       "   j3p5  lc3p5  li3p5  lp3p5  fl3p5  fed3p5  istriple  \n",
       "0     0      1      0      0      7       0         0  \n",
       "1     0      1      0      0      7       0         0  \n",
       "2     0      0      0      0      5       0         0  \n",
       "3     0      1      0      0      9       1         0  \n",
       "4     0      0      0      0      5       1         0  \n",
       "\n",
       "[5 rows x 477 columns]"
      ]
     },
     "execution_count": 3,
     "metadata": {},
     "output_type": "execute_result"
    }
   ],
   "source": [
    "triplexes.head()"
   ]
  },
  {
   "cell_type": "code",
   "execution_count": 3,
   "metadata": {},
   "outputs": [],
   "source": [
    "### !!!!! необходимые данные - train\n",
    "\n",
    "triplexes_data = triplexes.iloc[:, 5:475]\n",
    "triplexes_target = triplexes.iloc[:, 476]"
   ]
  },
  {
   "cell_type": "code",
   "execution_count": null,
   "metadata": {},
   "outputs": [],
   "source": []
  },
  {
   "cell_type": "code",
   "execution_count": 4,
   "metadata": {},
   "outputs": [],
   "source": [
    "triplexes_test = pd.read_csv('basetriples_sam.csv', header=0, sep='\\t')"
   ]
  },
  {
   "cell_type": "code",
   "execution_count": 9,
   "metadata": {},
   "outputs": [
    {
     "data": {
      "text/html": [
       "<div>\n",
       "<style scoped>\n",
       "    .dataframe tbody tr th:only-of-type {\n",
       "        vertical-align: middle;\n",
       "    }\n",
       "\n",
       "    .dataframe tbody tr th {\n",
       "        vertical-align: top;\n",
       "    }\n",
       "\n",
       "    .dataframe thead th {\n",
       "        text-align: right;\n",
       "    }\n",
       "</style>\n",
       "<table border=\"1\" class=\"dataframe\">\n",
       "  <thead>\n",
       "    <tr style=\"text-align: right;\">\n",
       "      <th></th>\n",
       "      <th>pdb_chain</th>\n",
       "      <th>type</th>\n",
       "      <th>dssrs</th>\n",
       "      <th>bps</th>\n",
       "      <th>dists</th>\n",
       "      <th>same12</th>\n",
       "      <th>local12</th>\n",
       "      <th>longrange12</th>\n",
       "      <th>same23</th>\n",
       "      <th>local23</th>\n",
       "      <th>...</th>\n",
       "      <th>h3p5</th>\n",
       "      <th>b3p5</th>\n",
       "      <th>i3p5</th>\n",
       "      <th>j3p5</th>\n",
       "      <th>lc3p5</th>\n",
       "      <th>li3p5</th>\n",
       "      <th>lp3p5</th>\n",
       "      <th>fl3p5</th>\n",
       "      <th>fed3p5</th>\n",
       "      <th>istriple</th>\n",
       "    </tr>\n",
       "  </thead>\n",
       "  <tbody>\n",
       "    <tr>\n",
       "      <th>0</th>\n",
       "      <td>2qwy.cif1_C</td>\n",
       "      <td>100</td>\n",
       "      <td>C.U.31.C.A.35.C.U.44.</td>\n",
       "      <td>-_-_-</td>\n",
       "      <td>11.45_33.53_36.83</td>\n",
       "      <td>1</td>\n",
       "      <td>0</td>\n",
       "      <td>0</td>\n",
       "      <td>0</td>\n",
       "      <td>0</td>\n",
       "      <td>...</td>\n",
       "      <td>0</td>\n",
       "      <td>0</td>\n",
       "      <td>1</td>\n",
       "      <td>0</td>\n",
       "      <td>1</td>\n",
       "      <td>0</td>\n",
       "      <td>0</td>\n",
       "      <td>3</td>\n",
       "      <td>0</td>\n",
       "      <td>0</td>\n",
       "    </tr>\n",
       "    <tr>\n",
       "      <th>1</th>\n",
       "      <td>2qwy.cif1_C</td>\n",
       "      <td>100</td>\n",
       "      <td>C.U.11.C.A.14.C.G.17.</td>\n",
       "      <td>-_-_-</td>\n",
       "      <td>18.15_15.21_15.5</td>\n",
       "      <td>1</td>\n",
       "      <td>0</td>\n",
       "      <td>0</td>\n",
       "      <td>1</td>\n",
       "      <td>0</td>\n",
       "      <td>...</td>\n",
       "      <td>0</td>\n",
       "      <td>0</td>\n",
       "      <td>0</td>\n",
       "      <td>0</td>\n",
       "      <td>0</td>\n",
       "      <td>0</td>\n",
       "      <td>0</td>\n",
       "      <td>2</td>\n",
       "      <td>0</td>\n",
       "      <td>0</td>\n",
       "    </tr>\n",
       "    <tr>\n",
       "      <th>2</th>\n",
       "      <td>2qwy.cif1_C</td>\n",
       "      <td>100</td>\n",
       "      <td>C.C.16.C.A.36.C.A.37.</td>\n",
       "      <td>-_-_-</td>\n",
       "      <td>44.83_5.03_42.8</td>\n",
       "      <td>0</td>\n",
       "      <td>0</td>\n",
       "      <td>1</td>\n",
       "      <td>1</td>\n",
       "      <td>0</td>\n",
       "      <td>...</td>\n",
       "      <td>0</td>\n",
       "      <td>0</td>\n",
       "      <td>0</td>\n",
       "      <td>0</td>\n",
       "      <td>0</td>\n",
       "      <td>0</td>\n",
       "      <td>0</td>\n",
       "      <td>2</td>\n",
       "      <td>0</td>\n",
       "      <td>0</td>\n",
       "    </tr>\n",
       "    <tr>\n",
       "      <th>3</th>\n",
       "      <td>2qwy.cif1_C</td>\n",
       "      <td>100</td>\n",
       "      <td>C.G.39.C.U.44.C.A.45.</td>\n",
       "      <td>-_-_-</td>\n",
       "      <td>25.15_5.23_27.48</td>\n",
       "      <td>0</td>\n",
       "      <td>0</td>\n",
       "      <td>1</td>\n",
       "      <td>0</td>\n",
       "      <td>1</td>\n",
       "      <td>...</td>\n",
       "      <td>0</td>\n",
       "      <td>0</td>\n",
       "      <td>0</td>\n",
       "      <td>0</td>\n",
       "      <td>0</td>\n",
       "      <td>0</td>\n",
       "      <td>0</td>\n",
       "      <td>2</td>\n",
       "      <td>0</td>\n",
       "      <td>0</td>\n",
       "    </tr>\n",
       "    <tr>\n",
       "      <th>4</th>\n",
       "      <td>2qwy.cif1_C</td>\n",
       "      <td>112</td>\n",
       "      <td>C.U.21.C.C.29.C.A.33.</td>\n",
       "      <td>-_cSW_-</td>\n",
       "      <td>26.88_8.7_23.88</td>\n",
       "      <td>0</td>\n",
       "      <td>0</td>\n",
       "      <td>1</td>\n",
       "      <td>0</td>\n",
       "      <td>1</td>\n",
       "      <td>...</td>\n",
       "      <td>1</td>\n",
       "      <td>0</td>\n",
       "      <td>0</td>\n",
       "      <td>0</td>\n",
       "      <td>0</td>\n",
       "      <td>0</td>\n",
       "      <td>1</td>\n",
       "      <td>11</td>\n",
       "      <td>3</td>\n",
       "      <td>0</td>\n",
       "    </tr>\n",
       "  </tbody>\n",
       "</table>\n",
       "<p>5 rows × 477 columns</p>\n",
       "</div>"
      ],
      "text/plain": [
       "     pdb_chain  type                  dssrs      bps              dists  \\\n",
       "0  2qwy.cif1_C   100  C.U.31.C.A.35.C.U.44.    -_-_-  11.45_33.53_36.83   \n",
       "1  2qwy.cif1_C   100  C.U.11.C.A.14.C.G.17.    -_-_-   18.15_15.21_15.5   \n",
       "2  2qwy.cif1_C   100  C.C.16.C.A.36.C.A.37.    -_-_-    44.83_5.03_42.8   \n",
       "3  2qwy.cif1_C   100  C.G.39.C.U.44.C.A.45.    -_-_-   25.15_5.23_27.48   \n",
       "4  2qwy.cif1_C   112  C.U.21.C.C.29.C.A.33.  -_cSW_-    26.88_8.7_23.88   \n",
       "\n",
       "   same12  local12  longrange12  same23  local23    ...     h3p5  b3p5  i3p5  \\\n",
       "0       1        0            0       0        0    ...        0     0     1   \n",
       "1       1        0            0       1        0    ...        0     0     0   \n",
       "2       0        0            1       1        0    ...        0     0     0   \n",
       "3       0        0            1       0        1    ...        0     0     0   \n",
       "4       0        0            1       0        1    ...        1     0     0   \n",
       "\n",
       "   j3p5  lc3p5  li3p5  lp3p5  fl3p5  fed3p5  istriple  \n",
       "0     0      1      0      0      3       0         0  \n",
       "1     0      0      0      0      2       0         0  \n",
       "2     0      0      0      0      2       0         0  \n",
       "3     0      0      0      0      2       0         0  \n",
       "4     0      0      0      1     11       3         0  \n",
       "\n",
       "[5 rows x 477 columns]"
      ]
     },
     "execution_count": 9,
     "metadata": {},
     "output_type": "execute_result"
    }
   ],
   "source": [
    "triplexes_test.head()"
   ]
  },
  {
   "cell_type": "code",
   "execution_count": 5,
   "metadata": {},
   "outputs": [],
   "source": [
    "### !!!!! необходимые данные - test\n",
    "\n",
    "triplexes_test_data = triplexes_test.iloc[:, 5:475]\n",
    "triplexes_test_target = triplexes_test.iloc[:, 476]"
   ]
  },
  {
   "cell_type": "code",
   "execution_count": null,
   "metadata": {},
   "outputs": [],
   "source": []
  },
  {
   "cell_type": "code",
   "execution_count": null,
   "metadata": {},
   "outputs": [],
   "source": []
  },
  {
   "cell_type": "code",
   "execution_count": null,
   "metadata": {},
   "outputs": [],
   "source": []
  },
  {
   "cell_type": "code",
   "execution_count": 6,
   "metadata": {},
   "outputs": [],
   "source": [
    "def plot_confusion_matrix(df_confusion, title='Confusion matrix', cmap=\"YlGnBu\"):  #\"YlGnBu\" plt.cm.gray_r\n",
    "    plt.matshow(df_confusion, cmap=cmap) # imshow\n",
    "    plt.colorbar()\n",
    "    tick_marks = np.arange(len(df_confusion.columns))\n",
    "    plt.xticks(tick_marks, df_confusion.columns, rotation=45)\n",
    "    plt.yticks(tick_marks, df_confusion.index)\n",
    "    print(\"CONFUSION MATRIX\")\n",
    "    print(df_confusion)\n",
    "    a = itertools.product(range(df_confusion.shape[0]), range(df_confusion.shape[1]))\n",
    "    for i, j in itertools.product(range(df_confusion.shape[0]), range(df_confusion.shape[1])):\n",
    "        if i == 2:\n",
    "            i_ = 'All'\n",
    "        else:\n",
    "            i_ = i\n",
    "        if j == 2:\n",
    "            j_ = 'All'\n",
    "        else:\n",
    "            j_ = j\n",
    "        plt.text(i, j, df_confusion[i_][j_], horizontalalignment=\"center\", color='black')\n",
    "    plt.ylabel(df_confusion.index.name)\n",
    "    plt.xlabel(df_confusion.columns.name)\n",
    "    plt.show()\n",
    "    \n",
    "    \n",
    "    \n",
    "def probability_density(y_prob, y):\n",
    "    kde1 = gaussian_kde(y_prob[y == 1])\n",
    "    kde2 = gaussian_kde(y_prob[y == 0])\n",
    "    \n",
    "    x1 = np.linspace(np.min(y_prob[y == 1]),np.max(y_prob[y == 1]),500)\n",
    "    x2 = np.linspace(np.min(y_prob[y == 0]),np.max(y_prob[y == 0]),500)\n",
    "    \n",
    "    try:\n",
    "        treshold = brentq(lambda x : kde1(x) - kde2(x), x2[np.argmax(kde1(x1))], x1[np.argmax(kde2(x2))])\n",
    "    except ValueError:\n",
    "        treshold = 0.5\n",
    "        \n",
    "    plt.fill_between(x1,kde1(x1),0, color='darkblue', alpha = 0.5, label = 'Triplexes')\n",
    "    plt.fill_between(x2,kde2(x2), 0, color='darkgrey', alpha = 0.5, label = 'Non-triplexes')\n",
    "    plt.axvline(x1[np.argmax(kde1(x1))], color='black', linestyle='--', alpha = 0.5)\n",
    "    plt.axvline(x2[np.argmax(kde2(x2))], color='black', linestyle='--', alpha = 0.5)\n",
    "    plt.axvline(treshold, color='black', linestyle='-.', alpha = 0.7, label = str(round(treshold,2)))\n",
    "    plt.xticks([0, 0.2, 0.4, 0.6, 0.8, 1])\n",
    "    plt.title('Probability Distributions')\n",
    "    plt.xlabel('Probabilities')\n",
    "    plt.show()\n"
   ]
  },
  {
   "cell_type": "code",
   "execution_count": null,
   "metadata": {},
   "outputs": [],
   "source": []
  },
  {
   "cell_type": "code",
   "execution_count": null,
   "metadata": {},
   "outputs": [],
   "source": [
    "\n"
   ]
  },
  {
   "cell_type": "code",
   "execution_count": null,
   "metadata": {},
   "outputs": [],
   "source": []
  },
  {
   "cell_type": "code",
   "execution_count": 7,
   "metadata": {},
   "outputs": [],
   "source": [
    "rf_classifier = ensemble.RandomForestClassifier(n_estimators=50, max_depth=10, random_state=1)"
   ]
  },
  {
   "cell_type": "code",
   "execution_count": 9,
   "metadata": {},
   "outputs": [
    {
     "data": {
      "text/plain": [
       "RandomForestClassifier(bootstrap=True, class_weight=None, criterion='gini',\n",
       "            max_depth=10, max_features='auto', max_leaf_nodes=None,\n",
       "            min_impurity_decrease=0.0, min_impurity_split=None,\n",
       "            min_samples_leaf=1, min_samples_split=2,\n",
       "            min_weight_fraction_leaf=0.0, n_estimators=50, n_jobs=1,\n",
       "            oob_score=False, random_state=1, verbose=0, warm_start=False)"
      ]
     },
     "execution_count": 9,
     "metadata": {},
     "output_type": "execute_result"
    }
   ],
   "source": [
    "rf_classifier.fit(triplexes_data, triplexes_target)"
   ]
  },
  {
   "cell_type": "code",
   "execution_count": 10,
   "metadata": {},
   "outputs": [],
   "source": [
    "prediction_result = rf_classifier.predict(triplexes_test_data)\n",
    "predict_proba = rf_classifier.predict_proba(triplexes_test_data)"
   ]
  },
  {
   "cell_type": "code",
   "execution_count": 11,
   "metadata": {},
   "outputs": [
    {
     "name": "stdout",
     "output_type": "stream",
     "text": [
      "111 C.G.6.C.U.26.C.U.38. cWW_-_tSW 10.21_7.35_8.39 PROBA:  0.43320114953969\n",
      "111 C.G.8.C.C.23.C.G.42. cW._cWW_cWH 14.54_10.41_11.07 PROBA:  0.4390400731255673\n",
      "111 C.A.9.C.G.22.C.C.43. ..._cWW_cWH 15.07_10.65_12.28 PROBA:  0.37719574919976373\n",
      "111 C.U.12.C.U.20.C.A.46. -_cWW_cWH 15.24_10.24_8.27 PROBA:  0.4876878698716853\n",
      "111 C.A.24.C.U.40.C.A.41. cWW_-_tSH 10.76_6.42_10.34 PROBA:  0.4326070508293589\n",
      "112 A.G.43.A.A.46.A.C.59. -_-_cWW 14.44_11.52_10.45 PROBA:  0.7272302195675654\n",
      "123 A.G.35.A.A.61.A.A.62. -_-_- 15.41_5.16_19.73 PROBA:  0.5527912459470767\n",
      "111 A.G.11.A.C.44.A.G.58. cSS_cWW_- 5.67_10.78_13.72 PROBA:  0.12891027367912117\n",
      "111 A.A.12.A.G.43.A.C.59. cSS_cWW_- 5.69_10.45_8.43 PROBA:  0.15253261088184833\n",
      "111 A.A.24.A.U.64.A.A.85. -_cWW_tWS 9.81_10.55_9.31 PROBA:  0.024175386240506653\n"
     ]
    }
   ],
   "source": [
    "#PREDICTED PROBABILITIES\n",
    "for index, row in triplexes_test.iterrows():\n",
    "    if triplexes_test_target[index] != prediction_result[index]:\n",
    "        print(row['type'], row['dssrs'], row['bps'], row['dists'], \"PROBA: \", predict_proba[index][1])"
   ]
  },
  {
   "cell_type": "code",
   "execution_count": 14,
   "metadata": {},
   "outputs": [
    {
     "name": "stdout",
     "output_type": "stream",
     "text": [
      "\n",
      "CONFUSION MATRIX By chain:  5fjc.cif1_A\n",
      "[[31  2]\n",
      " [ 3  4]]\n",
      "\n",
      "CONFUSION MATRIX By chain:  2qwy.cif1_C\n",
      "[[33  0]\n",
      " [ 5  1]]\n",
      "\n",
      "CONFUSION MATRIX By chain:  4oqu.cif1_A\n",
      "[[31  0]\n",
      " [ 0  6]]\n",
      "\n",
      "AUC_TRAIN =  0.9948190933378351\n",
      "\n",
      "AUC =  0.882799782962561\n"
     ]
    },
    {
     "data": {
      "image/png": "[encoded data removed]",
      "text/plain": [
       "<Figure size 432x288 with 1 Axes>"
      ]
     },
     "metadata": {
      "needs_background": "light"
     },
     "output_type": "display_data"
    },
    {
     "name": "stdout",
     "output_type": "stream",
     "text": [
      "Probability density for train\n"
     ]
    },
    {
     "data": {
      "image/png": "[encoded data removed]",
      "text/plain": [
       "<Figure size 432x288 with 1 Axes>"
      ]
     },
     "metadata": {
      "needs_background": "light"
     },
     "output_type": "display_data"
    },
    {
     "name": "stdout",
     "output_type": "stream",
     "text": [
      "Probability density for test\n"
     ]
    },
    {
     "data": {
      "image/png": "[encoded data removed]",
      "text/plain": [
       "<Figure size 432x288 with 1 Axes>"
      ]
     },
     "metadata": {
      "needs_background": "light"
     },
     "output_type": "display_data"
    },
    {
     "name": "stdout",
     "output_type": "stream",
     "text": [
      "\n",
      "[[95  2]\n",
      " [ 8 11]]\n",
      "CONFUSION MATRIX\n",
      "Predicted    0   1  All\n",
      "Actual                 \n",
      "0           95   2   97\n",
      "1            8  11   19\n",
      "All        103  13  116\n"
     ]
    },
    {
     "data": {
      "image/png": "[encoded data removed]",
      "text/plain": [
       "<Figure size 288x288 with 2 Axes>"
      ]
     },
     "metadata": {
      "needs_background": "light"
     },
     "output_type": "display_data"
    },
    {
     "name": "stdout",
     "output_type": "stream",
     "text": [
      "\n",
      "REPORT\n",
      "             precision    recall  f1-score   support\n",
      "\n",
      "          0       0.92      0.98      0.95        97\n",
      "          1       0.85      0.58      0.69        19\n",
      "\n",
      "avg / total       0.91      0.91      0.91       116\n",
      "\n",
      "ACCURACY =  0.9137931034482759\n",
      "-----------------\n"
     ]
    }
   ],
   "source": [
    "#prediction by chains\n",
    "chains = list(set(triplexes_test.pdb_chain.values))\n",
    "\n",
    "print(\"\")\n",
    "for chain in chains:\n",
    "    middle_check_test = triplexes_test.loc[triplexes_test['pdb_chain'] == chain]\n",
    "    middle_target_test = middle_check_test['istriple']\n",
    "    middle_check_test_ = middle_check_test.iloc[:, 5:475]\n",
    "    \n",
    "    prediction_result_by_chain = rf_classifier.predict(middle_check_test_)\n",
    "    predict_proba_by_chain = rf_classifier.predict_proba(middle_check_test_)\n",
    "\n",
    "\n",
    "    print(\"CONFUSION MATRIX By chain: \", chain)\n",
    "    print(confusion_matrix(middle_target_test, prediction_result_by_chain))\n",
    "    print(\"\")\n",
    "\n",
    "\n",
    "#TRY TO PREDICT TRAIN\n",
    "prediction_train = rf_classifier.predict(triplexes_data)\n",
    "prediction_prob_train = rf_classifier.predict_proba(triplexes_data)\n",
    "fpr_train, tpr_train, _ = metrics.roc_curve(triplexes_target,  prediction_prob_train[:, 1])\n",
    "auc_train = metrics.roc_auc_score(triplexes_target, prediction_prob_train[:, 1])\n",
    "print(\"AUC_TRAIN = \", auc_train)\n",
    "    \n",
    "#---------------------------------\n",
    "print(\"\")\n",
    "fpr, tpr, _ = metrics.roc_curve(triplexes_test_target,  predict_proba[:, 1])\n",
    "auc = metrics.roc_auc_score(triplexes_test_target, predict_proba[:, 1])\n",
    "print(\"AUC = \", auc)\n",
    "line_test, = plt.plot(fpr, tpr, label='test_roc')\n",
    "line_train, = plt.plot(fpr_train, tpr_train, label='train_roc')\n",
    "plt.legend( [line_test, line_train], ['test_roc', 'train_ROC'], loc = 4)\n",
    "plt.title(\"ROC\")\n",
    "plt.show()\n",
    "    \n",
    "print(\"Probability density for train\")\n",
    "probability_density(prediction_prob_train[:, 1], triplexes_target)\n",
    "print(\"Probability density for test\")\n",
    "probability_density(predict_proba[:, 1], triplexes_test_target)\n",
    "    \n",
    "print(\"\")\n",
    "print(confusion_matrix(triplexes_test_target, prediction_result))\n",
    "plot_confusion_matrix(pd.crosstab(triplexes_test_target, prediction_result, rownames=['Actual'], colnames=['Predicted'], margins=True))\n",
    "\n",
    "\n",
    "print(\"\")\n",
    "print(\"REPORT\")\n",
    "print(classification_report(triplexes_test_target, prediction_result))\n",
    "print(\"ACCURACY = \", accuracy_score(triplexes_test_target, prediction_result))\n",
    "print(\"-----------------\")\n"
   ]
  },
  {
   "cell_type": "code",
   "execution_count": null,
   "metadata": {},
   "outputs": [],
   "source": []
  }
 ],
 "metadata": {
  "kernelspec": {
   "display_name": "Python 3",
   "language": "python",
   "name": "python3"
  },
  "language_info": {
   "codemirror_mode": {
    "name": "ipython",
    "version": 3
   },
   "file_extension": ".py",
   "mimetype": "text/x-python",
   "name": "python",
   "nbconvert_exporter": "python",
   "pygments_lexer": "ipython3",
   "version": "3.7.0"
  }
 },
 "nbformat": 4,
 "nbformat_minor": 2
}
