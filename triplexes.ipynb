{
 "cells": [
  {
   "cell_type": "code",
   "execution_count": 20,
   "metadata": {},
   "outputs": [],
   "source": [
    "from sklearn import ensemble, cross_validation, learning_curve, metrics\n",
    "\n",
    "import numpy as np\n",
    "import pandas as pd"
   ]
  },
  {
   "cell_type": "code",
   "execution_count": 21,
   "metadata": {},
   "outputs": [],
   "source": [
    "triplexes = pd.read_csv('basetriples.csv', header=0, sep='\\t')"
   ]
  },
  {
   "cell_type": "code",
   "execution_count": 9,
   "metadata": {},
   "outputs": [
    {
     "data": {
      "text/html": [
       "<div>\n",
       "<style scoped>\n",
       "    .dataframe tbody tr th:only-of-type {\n",
       "        vertical-align: middle;\n",
       "    }\n",
       "\n",
       "    .dataframe tbody tr th {\n",
       "        vertical-align: top;\n",
       "    }\n",
       "\n",
       "    .dataframe thead th {\n",
       "        text-align: right;\n",
       "    }\n",
       "</style>\n",
       "<table border=\"1\" class=\"dataframe\">\n",
       "  <thead>\n",
       "    <tr style=\"text-align: right;\">\n",
       "      <th></th>\n",
       "      <th>pdb_chain</th>\n",
       "      <th>type</th>\n",
       "      <th>dssrs</th>\n",
       "      <th>bps</th>\n",
       "      <th>dists</th>\n",
       "      <th>same12</th>\n",
       "      <th>local12</th>\n",
       "      <th>longrange12</th>\n",
       "      <th>same23</th>\n",
       "      <th>local23</th>\n",
       "      <th>...</th>\n",
       "      <th>h3p5</th>\n",
       "      <th>b3p5</th>\n",
       "      <th>i3p5</th>\n",
       "      <th>j3p5</th>\n",
       "      <th>lc3p5</th>\n",
       "      <th>li3p5</th>\n",
       "      <th>lp3p5</th>\n",
       "      <th>fl3p5</th>\n",
       "      <th>fed3p5</th>\n",
       "      <th>istriple</th>\n",
       "    </tr>\n",
       "  </thead>\n",
       "  <tbody>\n",
       "    <tr>\n",
       "      <th>0</th>\n",
       "      <td>1b23.cif1_R</td>\n",
       "      <td>110</td>\n",
       "      <td>R.4SU.8.R.C.11.R.G.15.</td>\n",
       "      <td>-_-_-</td>\n",
       "      <td>11.88_20.1_12.32</td>\n",
       "      <td>0</td>\n",
       "      <td>1</td>\n",
       "      <td>0</td>\n",
       "      <td>0</td>\n",
       "      <td>1</td>\n",
       "      <td>...</td>\n",
       "      <td>1</td>\n",
       "      <td>0</td>\n",
       "      <td>0</td>\n",
       "      <td>0</td>\n",
       "      <td>1</td>\n",
       "      <td>0</td>\n",
       "      <td>0</td>\n",
       "      <td>9</td>\n",
       "      <td>1</td>\n",
       "      <td>0</td>\n",
       "    </tr>\n",
       "    <tr>\n",
       "      <th>1</th>\n",
       "      <td>1b23.cif1_R</td>\n",
       "      <td>110</td>\n",
       "      <td>R.A.9.R.A.13.R.C.62.</td>\n",
       "      <td>tHW_-_-</td>\n",
       "      <td>11.7_27.0_26.22</td>\n",
       "      <td>0</td>\n",
       "      <td>0</td>\n",
       "      <td>1</td>\n",
       "      <td>0</td>\n",
       "      <td>0</td>\n",
       "      <td>...</td>\n",
       "      <td>0</td>\n",
       "      <td>0</td>\n",
       "      <td>0</td>\n",
       "      <td>0</td>\n",
       "      <td>0</td>\n",
       "      <td>0</td>\n",
       "      <td>0</td>\n",
       "      <td>7</td>\n",
       "      <td>1</td>\n",
       "      <td>0</td>\n",
       "    </tr>\n",
       "    <tr>\n",
       "      <th>2</th>\n",
       "      <td>1b23.cif1_R</td>\n",
       "      <td>111</td>\n",
       "      <td>R.4SU.8.R.A.14.R.A.46.</td>\n",
       "      <td>tWH_t.W_cSS</td>\n",
       "      <td>10.04_12.76_4.86</td>\n",
       "      <td>0</td>\n",
       "      <td>0</td>\n",
       "      <td>1</td>\n",
       "      <td>0</td>\n",
       "      <td>0</td>\n",
       "      <td>...</td>\n",
       "      <td>0</td>\n",
       "      <td>0</td>\n",
       "      <td>0</td>\n",
       "      <td>0</td>\n",
       "      <td>0</td>\n",
       "      <td>0</td>\n",
       "      <td>0</td>\n",
       "      <td>5</td>\n",
       "      <td>1</td>\n",
       "      <td>1</td>\n",
       "    </tr>\n",
       "    <tr>\n",
       "      <th>3</th>\n",
       "      <td>1b23.cif1_R</td>\n",
       "      <td>111</td>\n",
       "      <td>R.4SU.8.R.G.15.R.G.48.</td>\n",
       "      <td>-_t.W_cSS</td>\n",
       "      <td>12.32_13.49_4.06</td>\n",
       "      <td>0</td>\n",
       "      <td>0</td>\n",
       "      <td>1</td>\n",
       "      <td>0</td>\n",
       "      <td>0</td>\n",
       "      <td>...</td>\n",
       "      <td>0</td>\n",
       "      <td>0</td>\n",
       "      <td>0</td>\n",
       "      <td>0</td>\n",
       "      <td>0</td>\n",
       "      <td>0</td>\n",
       "      <td>0</td>\n",
       "      <td>5</td>\n",
       "      <td>0</td>\n",
       "      <td>1</td>\n",
       "    </tr>\n",
       "    <tr>\n",
       "      <th>4</th>\n",
       "      <td>1b23.cif1_R</td>\n",
       "      <td>111</td>\n",
       "      <td>R.A.9.R.A.13.R.A.22.</td>\n",
       "      <td>tHW_tSH_-</td>\n",
       "      <td>11.7_10.01_13.84</td>\n",
       "      <td>0</td>\n",
       "      <td>0</td>\n",
       "      <td>1</td>\n",
       "      <td>1</td>\n",
       "      <td>0</td>\n",
       "      <td>...</td>\n",
       "      <td>0</td>\n",
       "      <td>0</td>\n",
       "      <td>0</td>\n",
       "      <td>0</td>\n",
       "      <td>0</td>\n",
       "      <td>0</td>\n",
       "      <td>0</td>\n",
       "      <td>4</td>\n",
       "      <td>0</td>\n",
       "      <td>1</td>\n",
       "    </tr>\n",
       "  </tbody>\n",
       "</table>\n",
       "<p>5 rows × 477 columns</p>\n",
       "</div>"
      ],
      "text/plain": [
       "     pdb_chain  type                   dssrs          bps             dists  \\\n",
       "0  1b23.cif1_R   110  R.4SU.8.R.C.11.R.G.15.        -_-_-  11.88_20.1_12.32   \n",
       "1  1b23.cif1_R   110    R.A.9.R.A.13.R.C.62.      tHW_-_-   11.7_27.0_26.22   \n",
       "2  1b23.cif1_R   111  R.4SU.8.R.A.14.R.A.46.  tWH_t.W_cSS  10.04_12.76_4.86   \n",
       "3  1b23.cif1_R   111  R.4SU.8.R.G.15.R.G.48.    -_t.W_cSS  12.32_13.49_4.06   \n",
       "4  1b23.cif1_R   111    R.A.9.R.A.13.R.A.22.    tHW_tSH_-  11.7_10.01_13.84   \n",
       "\n",
       "   same12  local12  longrange12  same23  local23    ...     h3p5  b3p5  i3p5  \\\n",
       "0       0        1            0       0        1    ...        1     0     0   \n",
       "1       0        0            1       0        0    ...        0     0     0   \n",
       "2       0        0            1       0        0    ...        0     0     0   \n",
       "3       0        0            1       0        0    ...        0     0     0   \n",
       "4       0        0            1       1        0    ...        0     0     0   \n",
       "\n",
       "   j3p5  lc3p5  li3p5  lp3p5  fl3p5  fed3p5  istriple  \n",
       "0     0      1      0      0      9       1         0  \n",
       "1     0      0      0      0      7       1         0  \n",
       "2     0      0      0      0      5       1         1  \n",
       "3     0      0      0      0      5       0         1  \n",
       "4     0      0      0      0      4       0         1  \n",
       "\n",
       "[5 rows x 477 columns]"
      ]
     },
     "execution_count": 9,
     "metadata": {},
     "output_type": "execute_result"
    }
   ],
   "source": [
    "triplexes.head()"
   ]
  },
  {
   "cell_type": "code",
   "execution_count": 22,
   "metadata": {},
   "outputs": [
    {
     "data": {
      "text/plain": [
       "(34415, 477)"
      ]
     },
     "execution_count": 22,
     "metadata": {},
     "output_type": "execute_result"
    }
   ],
   "source": [
    "triplexes.shape"
   ]
  },
  {
   "cell_type": "code",
   "execution_count": 11,
   "metadata": {},
   "outputs": [
    {
     "data": {
      "text/plain": [
       "Index(['pdb_chain', 'type', 'dssrs', 'bps', 'dists', 'same12', 'local12',\n",
       "       'longrange12', 'same23', 'local23',\n",
       "       ...\n",
       "       'h3p5', 'b3p5', 'i3p5', 'j3p5', 'lc3p5', 'li3p5', 'lp3p5', 'fl3p5',\n",
       "       'fed3p5', 'istriple'],\n",
       "      dtype='object', length=477)"
      ]
     },
     "execution_count": 11,
     "metadata": {},
     "output_type": "execute_result"
    }
   ],
   "source": [
    "triplexes.columns"
   ]
  },
  {
   "cell_type": "code",
   "execution_count": 12,
   "metadata": {},
   "outputs": [],
   "source": [
    "#целевая переменная\n",
    "triplex_target = triplexes.istriple.values"
   ]
  },
  {
   "cell_type": "code",
   "execution_count": 14,
   "metadata": {},
   "outputs": [
    {
     "data": {
      "text/plain": [
       "(array([0, 0, 1, ..., 0, 1, 0], dtype=int64), 34415)"
      ]
     },
     "execution_count": 14,
     "metadata": {},
     "output_type": "execute_result"
    }
   ],
   "source": [
    "triplex_target, len(triplex_target)"
   ]
  },
  {
   "cell_type": "code",
   "execution_count": 18,
   "metadata": {},
   "outputs": [
    {
     "name": "stdout",
     "output_type": "stream",
     "text": [
      "triplex = 1: 0.15\n",
      "triplex = 0: 0.85\n"
     ]
    }
   ],
   "source": [
    "print('triplex = 1: {:.2f}\\ntriplex = 0: {:.2f}'.format(sum(triplex_target)/float(len(triplex_target)), \n",
    "                                                       1.0 - sum(triplex_target)/float(len(triplex_target))))"
   ]
  },
  {
   "cell_type": "code",
   "execution_count": null,
   "metadata": {},
   "outputs": [],
   "source": []
  },
  {
   "cell_type": "code",
   "execution_count": 23,
   "metadata": {},
   "outputs": [
    {
     "data": {
      "text/plain": [
       "Counter({'1b23.cif1_R': 19,\n",
       "         '1c0a.cif1_B': 38,\n",
       "         '1e8o.cif1_E': 2,\n",
       "         '1et4.cif1_A': 15,\n",
       "         '1evv.cif1_A': 23,\n",
       "         '1f1t.cif1_A': 8,\n",
       "         '1f7u.cif1_B': 11,\n",
       "         '1fir.cif1_A': 25,\n",
       "         '1gax.cif1_D': 19,\n",
       "         '1h3e.cif1_B': 10,\n",
       "         '1h4s.cif1_T': 33,\n",
       "         '1hc8.cif1_C': 16,\n",
       "         '1i6u.cif1_C': 12,\n",
       "         '1il2.cif1_C': 22,\n",
       "         '1j1u.cif1_B': 27,\n",
       "         '1j2b.cif1_C': 4,\n",
       "         '1kh6.cif1_A': 3,\n",
       "         '1kog.cif1_O': 14,\n",
       "         '1kuq.cif1_B': 8,\n",
       "         '1kxk.cif1_A': 7,\n",
       "         '1l2x.cif1_A': 5,\n",
       "         '1mfq.cif1_A': 32,\n",
       "         '1mji.cif1_D': 15,\n",
       "         '1mms.cif1_C': 17,\n",
       "         '1mzp.cif1_B': 19,\n",
       "         '1n78.cif1_C': 24,\n",
       "         '1nbs.cif1_B': 67,\n",
       "         '1q96.cif1_A': 2,\n",
       "         '1qf6.cif1_B': 26,\n",
       "         '1qtq.cif1_B': 25,\n",
       "         '1qu2.cif1_T': 19,\n",
       "         '1s03.cif1_B': 5,\n",
       "         '1s03.cif1_A': 14,\n",
       "         '1ser.cif1_T': 20,\n",
       "         '1u0b.cif1_A': 26,\n",
       "         '1u6b.cif1_B': 70,\n",
       "         '1u9s.cif1_A': 69,\n",
       "         '1un6.cif1_F': 9,\n",
       "         '1wz2.cif1_D': 10,\n",
       "         '1xjr.cif1_A': 2,\n",
       "         '1y26.cif1_X': 16,\n",
       "         '1y27.cif1_X': 18,\n",
       "         '1yfg.cif1_A': 38,\n",
       "         '2a43.cif1_A': 3,\n",
       "         '2a64.cif1_A': 61,\n",
       "         '2azx.cif1_D': 25,\n",
       "         '2bte.cif1_B': 10,\n",
       "         '2csx.cif1_C': 23,\n",
       "         '2d6f.cif1_F': 19,\n",
       "         '2der.cif1_D': 30,\n",
       "         '2dlc.cif1_Y': 10,\n",
       "         '2du3.cif1_D': 24,\n",
       "         '2gdi.cif1_X': 23,\n",
       "         '2il9.cif1_A': 15,\n",
       "         '2oiu.cif1_Q': 2,\n",
       "         '2qus.cif1_A': 21,\n",
       "         '2quw.cif1_B': 4,\n",
       "         '2qwy.cif1_C': 37,\n",
       "         '2r8s.cif1_R': 33,\n",
       "         '2xd0.cif1_W': 21,\n",
       "         '2xdb.cif1_G': 20,\n",
       "         '2zni.cif1_C': 12,\n",
       "         '2zue.cif1_B': 10,\n",
       "         '2zy6.cif1_A': 2,\n",
       "         '2zzm.cif1_B': 6,\n",
       "         '2zzn.cif1_D': 10,\n",
       "         '3add.cif1_C': 3,\n",
       "         '3agv.cif1_S': 2,\n",
       "         '3al0.cif1_E': 25,\n",
       "         '3am1.cif1_B': 4,\n",
       "         '3amu.cif1_B': 21,\n",
       "         '3cul.cif1_C': 4,\n",
       "         '3d0u.cif1_A': 21,\n",
       "         '3d2v.cif1_A': 25,\n",
       "         '3dd2.cif1_B': 7,\n",
       "         '3dil.cif1_A': 25,\n",
       "         '3e5c.cif1_A': 10,\n",
       "         '3egz.cif1_B': 16,\n",
       "         '3eph.cif1_E': 24,\n",
       "         '3f2x.cif1_X': 33,\n",
       "         '3g9c.cif1_Q': 20,\n",
       "         '3hax.cif1_E': 1,\n",
       "         '3hhn.cif1_E': 31,\n",
       "         '3hjw.cif1_D': 1,\n",
       "         '3icq.cif1_E': 16,\n",
       "         '3igi.cif1_A': 63,\n",
       "         '3ivk.cif1_M': 43,\n",
       "         '3ivn.cif1_A': 20,\n",
       "         '3iwn.cif1_A': 32,\n",
       "         '3j79.cif1_B': 57,\n",
       "         '3j79.cif1_A': 965,\n",
       "         '3j79.cif1_C': 27,\n",
       "         '3j7a.cif1_7': 4,\n",
       "         '3j7a.cif1_A': 486,\n",
       "         '3j7o.cif1_7': 59,\n",
       "         '3j7p.cif1_S2': 766,\n",
       "         '3j7q.cif1_5': 1319,\n",
       "         '3j7q.cif1_8': 20,\n",
       "         '3j9m.cif1_AA': 318,\n",
       "         '3jam.cif1_2': 506,\n",
       "         '3jbv.cif1_W': 21,\n",
       "         '3jcs.cif1_5': 4,\n",
       "         '3jcs.cif1_3': 11,\n",
       "         '3k0j.cif1_E': 12,\n",
       "         '3k1v.cif1_A': 2,\n",
       "         '3kfu.cif1_L': 25,\n",
       "         '3ktw.cif1_C': 11,\n",
       "         '3la5.cif1_A': 20,\n",
       "         '3lqx.cif1_B': 2,\n",
       "         '3moj.cif1_A': 10,\n",
       "         '3mxh.cif1_R': 52,\n",
       "         '3ndb.cif1_M': 32,\n",
       "         '3npq.cif1_A': 17,\n",
       "         '3oxe.cif1_A': 18,\n",
       "         '3pdr.cif1_X': 53,\n",
       "         '3q3z.cif1_V': 23,\n",
       "         '3q50.cif1_A': 7,\n",
       "         '3r9x.cif1_C': 3,\n",
       "         '3rg5.cif1_B': 3,\n",
       "         '3rkf.cif1_C': 19,\n",
       "         '3rw6.cif1_H': 11,\n",
       "         '3ski.cif1_A': 22,\n",
       "         '3skl.cif1_B': 24,\n",
       "         '3sux.cif1_X': 12,\n",
       "         '3tup.cif1_T': 17,\n",
       "         '3u4m.cif1_B': 29,\n",
       "         '3v7e.cif1_C': 30,\n",
       "         '3w3s.cif1_B': 20,\n",
       "         '3wfs.cif1_A': 27,\n",
       "         '3wqy.cif1_C': 27,\n",
       "         '3zgz.cif1_B': 10,\n",
       "         '4aob.cif1_A': 33,\n",
       "         '4ato.cif1_G': 16,\n",
       "         '4bw0.cif1_A': 1,\n",
       "         '4c4w.cif1_H': 4,\n",
       "         '4enc.cif1_A': 7,\n",
       "         '4fen.cif1_B': 18,\n",
       "         '4frg.cif1_B': 12,\n",
       "         '4frn.cif1_B': 7,\n",
       "         '4gcw.cif1_B': 20,\n",
       "         '4gxy.cif1_A': 60,\n",
       "         '4ioa.cif1_X': 990,\n",
       "         '4ioa.cif1_Y': 60,\n",
       "         '4jf2.cif1_A': 17,\n",
       "         '4jrc.cif1_B': 25,\n",
       "         '4jxz.cif1_B': 9,\n",
       "         '4kqy.cif1_A': 45,\n",
       "         '4kr6.cif1_C': 3,\n",
       "         '4kzd.cif1_R': 3,\n",
       "         '4lck.cif1_F': 31,\n",
       "         '4lck.cif1_B': 13,\n",
       "         '4lfb.cif1_A': 584,\n",
       "         '4lvw.cif1_A': 18,\n",
       "         '4lx6.cif1_A': 17,\n",
       "         '4m4o.cif1_B': 16,\n",
       "         '4m6d.cif1_H': 19,\n",
       "         '4mgn.cif1_B': 24,\n",
       "         '4mgn.cif1_A': 30,\n",
       "         '4nlf.cif1_A': 1,\n",
       "         '4oji.cif1_A': 11,\n",
       "         '4oqu.cif1_A': 35,\n",
       "         '4p5j.cif1_A': 26,\n",
       "         '4p95.cif1_A': 86,\n",
       "         '4pcj.cif1_A': 4,\n",
       "         '4pdb.cif1_I': 8,\n",
       "         '4plx.cif1_A': 44,\n",
       "         '4pqv.cif1_A': 1,\n",
       "         '4pr6.cif1_B': 32,\n",
       "         '4prf.cif1_B': 33,\n",
       "         '4qei.cif1_C': 22,\n",
       "         '4qk8.cif1_A': 36,\n",
       "         '4qk9.cif1_A': 28,\n",
       "         '4qlm.cif1_A': 27,\n",
       "         '4r4v.cif1_A': 44,\n",
       "         '4rdx.cif1_C': 28,\n",
       "         '4rge.cif1_C': 14,\n",
       "         '4rmo.cif1_B': 17,\n",
       "         '4rum.cif1_A': 2,\n",
       "         '4rzd.cif1_A': 19,\n",
       "         '4tue.cif1_QV': 19,\n",
       "         '4uyk.cif1_R': 30,\n",
       "         '4v7m.cif1_AY': 11,\n",
       "         '4v88.cif1_A6': 639,\n",
       "         '4v8n.cif1_CV': 25,\n",
       "         '4v90.cif1_AV': 19,\n",
       "         '4v9f.cif1_9': 59,\n",
       "         '4v9f.cif1_0': 1153,\n",
       "         '4v9i.cif1_AY': 9,\n",
       "         '4v9k.cif1_AW': 18,\n",
       "         '4v9q.cif1_DV': 3,\n",
       "         '4w90.cif1_C': 11,\n",
       "         '4wf9.cif1_X': 943,\n",
       "         '4wf9.cif1_Y': 60,\n",
       "         '4wfl.cif1_A': 10,\n",
       "         '4wj4.cif1_B': 33,\n",
       "         '4wq1.cif1_3K': 3,\n",
       "         '4wsm.cif1_3L': 10,\n",
       "         '4wsm.cif1_1K': 4,\n",
       "         '4xnr.cif1_X': 17,\n",
       "         '4y1j.cif1_A': 30,\n",
       "         '4y1m.cif1_B': 18,\n",
       "         '4y4o.cif1_2A': 1112,\n",
       "         '4yaz.cif1_R': 38,\n",
       "         '4yco.cif1_D': 29,\n",
       "         '4ycp.cif1_B': 40,\n",
       "         '4yye.cif1_C': 33,\n",
       "         '4zdo.cif1_E': 4,\n",
       "         '4znp.cif1_A': 17,\n",
       "         '5ah5.cif1_D': 10,\n",
       "         '5aj0.cif1_Bv': 26,\n",
       "         '5an9.cif1_N': 413,\n",
       "         '5aox.cif1_C': 16,\n",
       "         '5axm.cif1_P': 24,\n",
       "         '5b63.cif1_D': 18,\n",
       "         '5bjo.cif1_E': 4,\n",
       "         '5btp.cif1_B': 3,\n",
       "         '5c45.cif1_X': 2,\n",
       "         '5ccb.cif1_N': 28,\n",
       "         '5czz.cif1_B': 4,\n",
       "         '5d5l.cif1_A': 11,\n",
       "         '5d8h.cif1_A': 23,\n",
       "         '5dcv.cif1_D': 11,\n",
       "         '5ddo.cif1_B': 2,\n",
       "         '5ddp.cif1_A': 8,\n",
       "         '5de8.cif1_A': 2,\n",
       "         '5dea.cif1_C': 3,\n",
       "         '5e6m.cif1_C': 28,\n",
       "         '5e81.cif1_2K': 17,\n",
       "         '5e81.cif1_1K': 15,\n",
       "         '5e81.cif1_3L': 3,\n",
       "         '5el4.cif1_3L': 19,\n",
       "         '5f5h.cif1_D': 1,\n",
       "         '5fdv.cif1_1B': 67,\n",
       "         '5fjc.cif1_A': 41,\n",
       "         '5hr6.cif1_C': 21,\n",
       "         '5hr7.cif1_D': 27,\n",
       "         '5ib8.cif1_1L': 8,\n",
       "         '5ibb.cif1_1L': 6,\n",
       "         '5ibb.cif1_1K': 4,\n",
       "         '5j7l.cif1_DB': 57,\n",
       "         '5j7l.cif1_DA': 1103,\n",
       "         '5j7l.cif1_AA': 651,\n",
       "         '5jup.cif1_EC': 20,\n",
       "         '5kk5.cif1_B': 10,\n",
       "         '5kpy.cif1_A': 4,\n",
       "         '5ktj.cif1_A': 13,\n",
       "         '5l4o.cif1_A': 24,\n",
       "         '5lys.cif1_B': 32,\n",
       "         '5lzd.cif1_y': 4,\n",
       "         '5lzs.cif1_2': 9,\n",
       "         '5lzs.cif1_3': 17,\n",
       "         '5mga.cif1_B': 4,\n",
       "         '5mgp.cif1_x': 23,\n",
       "         '5ml7.cif1_B': 50,\n",
       "         '5mmm.cif1_z': 20,\n",
       "         '5mrc.cif1_A': 831,\n",
       "         '5mrc.cif1_bb': 19,\n",
       "         '5mrc.cif1_aa': 418,\n",
       "         '5ngm.cif1_Aa': 462,\n",
       "         '5ns3.cif1_C': 20,\n",
       "         '5nwq.cif1_A': 22,\n",
       "         '5o2r.cif1_x': 22,\n",
       "         '5o5j.cif1_A': 574,\n",
       "         '5o60.cif1_A': 1041,\n",
       "         '5ob3.cif1_A': 3,\n",
       "         '5ool.cif1_A': 568,\n",
       "         '5ool.cif1_B': 23,\n",
       "         '5oql.cif1_1': 155,\n",
       "         '5oql.cif1_2': 21,\n",
       "         '5swd.cif1_B': 2,\n",
       "         '5t2a.cif1_B': 252,\n",
       "         '5t5h.cif1_G': 12,\n",
       "         '5t5h.cif1_H': 9,\n",
       "         '5t5h.cif1_E': 4,\n",
       "         '5t5h.cif1_D': 48,\n",
       "         '5t5h.cif1_B': 283,\n",
       "         '5t5h.cif1_A': 340,\n",
       "         '5t5h.cif1_C': 21,\n",
       "         '5t83.cif1_A': 34,\n",
       "         '5tbw.cif1_1': 937,\n",
       "         '5tbw.cif1_4': 22,\n",
       "         '5tbw.cif1_AS': 48,\n",
       "         '5tpy.cif1_A': 7,\n",
       "         '5u3g.cif1_B': 26,\n",
       "         '5ud5.cif1_C': 19,\n",
       "         '5voe.cif1_A': 2,\n",
       "         '5wt1.cif1_C': 32,\n",
       "         '5wti.cif1_B': 15,\n",
       "         '5wwt.cif1_C': 20,\n",
       "         '5x2g.cif1_B': 12,\n",
       "         '5x6b.cif1_P': 3,\n",
       "         '5xh7.cif1_B': 4,\n",
       "         '5xtm.cif1_D': 5,\n",
       "         '5xtm.cif1_B': 7,\n",
       "         '5xuz.cif1_B': 2,\n",
       "         '5xxb.cif1_3': 55,\n",
       "         '5xxb.cif1_1': 842,\n",
       "         '5xxb.cif1_4': 20,\n",
       "         '5xxu.cif1_2': 472,\n",
       "         '5xy3.cif1_1': 762,\n",
       "         '5xy3.cif1_4': 20,\n",
       "         '5xy3.cif1_3': 52,\n",
       "         '5xyi.cif1_2': 429,\n",
       "         '5xym.cif1_B': 47,\n",
       "         '5y7m.cif1_D': 2,\n",
       "         '5zwm.cif1_B': 16,\n",
       "         '5zwn.cif1_P': 21,\n",
       "         '6az1.cif1_1': 585,\n",
       "         '6az3.cif1_1': 397,\n",
       "         '6az3.cif1_7': 19,\n",
       "         '6az3.cif1_3': 20,\n",
       "         '6az3.cif1_2': 286,\n",
       "         '6az3.cif1_6': 1,\n",
       "         '6az3.cif1_5': 26,\n",
       "         '6az3.cif1_4': 26,\n",
       "         '6az3.cif1_8': 51,\n",
       "         '6cb3.cif1_B': 27,\n",
       "         '6cf2.cif1_G': 4,\n",
       "         '6cfj.cif1_1x': 18,\n",
       "         '6ck5.cif1_A': 26,\n",
       "         '6cmn.cif1_D': 3,\n",
       "         '6d90.cif1_4': 38,\n",
       "         '6d90.cif1_3': 10,\n",
       "         '6d9j.cif1_5': 724,\n",
       "         '6d9j.cif1_8': 26,\n",
       "         '6d9j.cif1_3': 4,\n",
       "         '6d9j.cif1_2': 382,\n",
       "         '6d9j.cif1_7': 33,\n",
       "         '6dn2.cif1_X': 2,\n",
       "         '6ek0.cif1_L5': 1041,\n",
       "         '6ek0.cif1_L8': 20,\n",
       "         '6ek0.cif1_S2': 550,\n",
       "         '6ek0.cif1_S6': 17,\n",
       "         '6ek0.cif1_L7': 49,\n",
       "         '6eri.cif1_Ax': 43,\n",
       "         '6eri.cif1_AA': 1013,\n",
       "         '6eri.cif1_AB': 24,\n",
       "         '6eri.cif1_BA': 540,\n",
       "         '6gaw.cif1_BB': 23,\n",
       "         '6gaw.cif1_BA': 543,\n",
       "         '6gaz.cif1_AA': 279,\n",
       "         '6gaz.cif1_AV': 27,\n",
       "         '6ha1.cif1_a': 644,\n",
       "         '6ha1.cif1_B': 41,\n",
       "         '6ha1.cif1_x': 3,\n",
       "         '6ha1.cif1_A': 1028,\n",
       "         '6ha8.cif1_x': 3})"
      ]
     },
     "execution_count": 23,
     "metadata": {},
     "output_type": "execute_result"
    }
   ],
   "source": [
    "from collections import Counter\n",
    "Counter(list(triplexes.pdb_chain.values))\n",
    "#print(list(triplexes.pdb_chain.values))"
   ]
  },
  {
   "cell_type": "code",
   "execution_count": 25,
   "metadata": {},
   "outputs": [],
   "source": [
    "triplexes_data = triplexes.iloc[:, 5:475]\n",
    "triplexes_target = triplexes.iloc[:, 476]"
   ]
  },
  {
   "cell_type": "code",
   "execution_count": 30,
   "metadata": {},
   "outputs": [
    {
     "data": {
      "text/html": [
       "<div>\n",
       "<style scoped>\n",
       "    .dataframe tbody tr th:only-of-type {\n",
       "        vertical-align: middle;\n",
       "    }\n",
       "\n",
       "    .dataframe tbody tr th {\n",
       "        vertical-align: top;\n",
       "    }\n",
       "\n",
       "    .dataframe thead th {\n",
       "        text-align: right;\n",
       "    }\n",
       "</style>\n",
       "<table border=\"1\" class=\"dataframe\">\n",
       "  <thead>\n",
       "    <tr style=\"text-align: right;\">\n",
       "      <th></th>\n",
       "      <th>same12</th>\n",
       "      <th>local12</th>\n",
       "      <th>longrange12</th>\n",
       "      <th>same23</th>\n",
       "      <th>local23</th>\n",
       "      <th>longrange23</th>\n",
       "      <th>same13</th>\n",
       "      <th>local13</th>\n",
       "      <th>longrange13</th>\n",
       "      <th>a1m5</th>\n",
       "      <th>...</th>\n",
       "      <th>u3p5</th>\n",
       "      <th>s3p5</th>\n",
       "      <th>h3p5</th>\n",
       "      <th>b3p5</th>\n",
       "      <th>i3p5</th>\n",
       "      <th>j3p5</th>\n",
       "      <th>lc3p5</th>\n",
       "      <th>li3p5</th>\n",
       "      <th>lp3p5</th>\n",
       "      <th>fl3p5</th>\n",
       "    </tr>\n",
       "  </thead>\n",
       "  <tbody>\n",
       "    <tr>\n",
       "      <th>0</th>\n",
       "      <td>0</td>\n",
       "      <td>1</td>\n",
       "      <td>0</td>\n",
       "      <td>0</td>\n",
       "      <td>1</td>\n",
       "      <td>0</td>\n",
       "      <td>0</td>\n",
       "      <td>0</td>\n",
       "      <td>1</td>\n",
       "      <td>0</td>\n",
       "      <td>...</td>\n",
       "      <td>0</td>\n",
       "      <td>0</td>\n",
       "      <td>1</td>\n",
       "      <td>0</td>\n",
       "      <td>0</td>\n",
       "      <td>0</td>\n",
       "      <td>1</td>\n",
       "      <td>0</td>\n",
       "      <td>0</td>\n",
       "      <td>9</td>\n",
       "    </tr>\n",
       "  </tbody>\n",
       "</table>\n",
       "<p>1 rows × 470 columns</p>\n",
       "</div>"
      ],
      "text/plain": [
       "   same12  local12  longrange12  same23  local23  longrange23  same13  \\\n",
       "0       0        1            0       0        1            0       0   \n",
       "\n",
       "   local13  longrange13  a1m5  ...    u3p5  s3p5  h3p5  b3p5  i3p5  j3p5  \\\n",
       "0        0            1     0  ...       0     0     1     0     0     0   \n",
       "\n",
       "   lc3p5  li3p5  lp3p5  fl3p5  \n",
       "0      1      0      0      9  \n",
       "\n",
       "[1 rows x 470 columns]"
      ]
     },
     "execution_count": 30,
     "metadata": {},
     "output_type": "execute_result"
    }
   ],
   "source": [
    "triplexes_data[:1]"
   ]
  },
  {
   "cell_type": "code",
   "execution_count": 21,
   "metadata": {},
   "outputs": [],
   "source": [
    "# разбиение на train и test простое (не используем)\n",
    "from sklearn import cross_validation"
   ]
  },
  {
   "cell_type": "code",
   "execution_count": 29,
   "metadata": {},
   "outputs": [],
   "source": [
    "train_data, test_data, train_labels, test_labels = cross_validation.train_test_split(triplexes_data, triplexes_target, test_size=0.3, )"
   ]
  },
  {
   "cell_type": "code",
   "execution_count": 1,
   "metadata": {},
   "outputs": [],
   "source": [
    "from sklearn.model_selection import GroupShuffleSplit"
   ]
  },
  {
   "cell_type": "code",
   "execution_count": 31,
   "metadata": {},
   "outputs": [],
   "source": [
    "#разбиваем выборки по группам pdb_chain\n",
    "\n",
    "gss = GroupShuffleSplit(n_splits=1, test_size=0.3)\n",
    "train_dataset,test_dataset = next(gss.split(X=triplexes, y=triplexes['istriple'], groups=triplexes.pdb_chain.values))\n"
   ]
  },
  {
   "cell_type": "code",
   "execution_count": 33,
   "metadata": {},
   "outputs": [
    {
     "data": {
      "text/plain": [
       "(24338,)"
      ]
     },
     "execution_count": 33,
     "metadata": {},
     "output_type": "execute_result"
    }
   ],
   "source": [
    "train_dataset.shape"
   ]
  },
  {
   "cell_type": "code",
   "execution_count": 41,
   "metadata": {},
   "outputs": [],
   "source": [
    "#обучающая и тестовая выборки\n",
    "\n",
    "check_train = triplexes.loc[list(train_dataset)]\n",
    "check_test = triplexes.loc[list(test_dataset)]"
   ]
  },
  {
   "cell_type": "code",
   "execution_count": 50,
   "metadata": {},
   "outputs": [],
   "source": [
    "target_train = check_train.istriple.values\n",
    "target_test = check_test.istriple.values\n"
   ]
  },
  {
   "cell_type": "code",
   "execution_count": 55,
   "metadata": {},
   "outputs": [],
   "source": [
    "check_train = check_train.drop('istriple', axis=1)"
   ]
  },
  {
   "cell_type": "code",
   "execution_count": 57,
   "metadata": {},
   "outputs": [],
   "source": [
    "check_test = check_test.drop('istriple', axis=1)"
   ]
  },
  {
   "cell_type": "code",
   "execution_count": 56,
   "metadata": {},
   "outputs": [
    {
     "data": {
      "text/plain": [
       "Index(['pdb_chain', 'type', 'dssrs', 'bps', 'dists', 'same12', 'local12',\n",
       "       'longrange12', 'same23', 'local23',\n",
       "       ...\n",
       "       's3p5', 'h3p5', 'b3p5', 'i3p5', 'j3p5', 'lc3p5', 'li3p5', 'lp3p5',\n",
       "       'fl3p5', 'fed3p5'],\n",
       "      dtype='object', length=476)"
      ]
     },
     "execution_count": 56,
     "metadata": {},
     "output_type": "execute_result"
    }
   ],
   "source": [
    "check_train.columns"
   ]
  },
  {
   "cell_type": "code",
   "execution_count": 44,
   "metadata": {},
   "outputs": [],
   "source": [
    "#middle check of shuffle\n",
    "a = Counter(list(check_train.pdb_chain.values))\n",
    "b = Counter(list(check_test.pdb_chain.values))"
   ]
  },
  {
   "cell_type": "code",
   "execution_count": 61,
   "metadata": {},
   "outputs": [],
   "source": [
    "#check_train - target train\n",
    "#check_test - target_test\n",
    "check_train = check_train.iloc[:, 5:475]\n",
    "check_test = check_test.iloc[:, 5:475]"
   ]
  },
  {
   "cell_type": "code",
   "execution_count": null,
   "metadata": {},
   "outputs": [],
   "source": []
  },
  {
   "cell_type": "code",
   "execution_count": null,
   "metadata": {},
   "outputs": [],
   "source": []
  },
  {
   "cell_type": "code",
   "execution_count": null,
   "metadata": {},
   "outputs": [],
   "source": []
  },
  {
   "cell_type": "code",
   "execution_count": null,
   "metadata": {},
   "outputs": [],
   "source": []
  },
  {
   "cell_type": "code",
   "execution_count": null,
   "metadata": {},
   "outputs": [],
   "source": []
  },
  {
   "cell_type": "markdown",
   "metadata": {},
   "source": [
    "# Модель RandomForestClassifier"
   ]
  },
  {
   "cell_type": "code",
   "execution_count": 83,
   "metadata": {},
   "outputs": [],
   "source": [
    "rf_classifier = ensemble.RandomForestClassifier(n_estimators=50, max_depth=15, random_state=1)"
   ]
  },
  {
   "cell_type": "code",
   "execution_count": 84,
   "metadata": {},
   "outputs": [
    {
     "data": {
      "text/plain": [
       "RandomForestClassifier(bootstrap=True, class_weight=None, criterion='gini',\n",
       "            max_depth=15, max_features='auto', max_leaf_nodes=None,\n",
       "            min_impurity_decrease=0.0, min_impurity_split=None,\n",
       "            min_samples_leaf=1, min_samples_split=2,\n",
       "            min_weight_fraction_leaf=0.0, n_estimators=50, n_jobs=1,\n",
       "            oob_score=False, random_state=1, verbose=0, warm_start=False)"
      ]
     },
     "execution_count": 84,
     "metadata": {},
     "output_type": "execute_result"
    }
   ],
   "source": [
    "rf_classifier.fit(check_train, target_train)"
   ]
  },
  {
   "cell_type": "code",
   "execution_count": 85,
   "metadata": {},
   "outputs": [],
   "source": [
    "prediction_result = rf_classifier.predict(check_test)"
   ]
  },
  {
   "cell_type": "code",
   "execution_count": 70,
   "metadata": {},
   "outputs": [],
   "source": [
    "from sklearn.metrics import classification_report, accuracy_score"
   ]
  },
  {
   "cell_type": "code",
   "execution_count": 86,
   "metadata": {},
   "outputs": [
    {
     "name": "stdout",
     "output_type": "stream",
     "text": [
      "             precision    recall  f1-score   support\n",
      "\n",
      "          0       0.97      0.99      0.98      8593\n",
      "          1       0.92      0.84      0.88      1484\n",
      "\n",
      "avg / total       0.97      0.97      0.97     10077\n",
      "\n",
      "0.9662597995435149\n"
     ]
    }
   ],
   "source": [
    "print(classification_report(target_test, prediction_result))\n",
    "print(accuracy_score(target_test, prediction_result))"
   ]
  },
  {
   "cell_type": "code",
   "execution_count": 95,
   "metadata": {},
   "outputs": [],
   "source": [
    "from matplotlib import pyplot as plt"
   ]
  },
  {
   "cell_type": "code",
   "execution_count": 88,
   "metadata": {},
   "outputs": [],
   "source": [
    "from sklearn.metrics import confusion_matrix\n",
    "df_confusion = pd.crosstab(target_test, prediction_result, rownames=['Actual'], colnames=['Predicted'], margins=True)"
   ]
  },
  {
   "cell_type": "code",
   "execution_count": 96,
   "metadata": {},
   "outputs": [],
   "source": [
    "def plot_confusion_matrix(df_confusion, title='Confusion matrix', cmap=plt.cm.gray_r):\n",
    "    plt.matshow(df_confusion, cmap=cmap) # imshow\n",
    "    plt.colorbar()\n",
    "    tick_marks = np.arange(len(df_confusion.columns))\n",
    "    plt.xticks(tick_marks, df_confusion.columns, rotation=45)\n",
    "    plt.yticks(tick_marks, df_confusion.index)\n",
    "    plt.ylabel(df_confusion.index.name)\n",
    "    plt.xlabel(df_confusion.columns.name)"
   ]
  },
  {
   "cell_type": "code",
   "execution_count": 97,
   "metadata": {},
   "outputs": [
    {
     "data": {
      "image/png": "[encoded data removed]",
      "text/plain": [
       "<Figure size 288x288 with 2 Axes>"
      ]
     },
     "metadata": {
      "needs_background": "light"
     },
     "output_type": "display_data"
    }
   ],
   "source": [
    "plot_confusion_matrix(df_confusion)"
   ]
  },
  {
   "cell_type": "code",
   "execution_count": null,
   "metadata": {},
   "outputs": [],
   "source": []
  }
 ],
 "metadata": {
  "kernelspec": {
   "display_name": "Python 3",
   "language": "python",
   "name": "python3"
  },
  "language_info": {
   "codemirror_mode": {
    "name": "ipython",
    "version": 3
   },
   "file_extension": ".py",
   "mimetype": "text/x-python",
   "name": "python",
   "nbconvert_exporter": "python",
   "pygments_lexer": "ipython3",
   "version": "3.7.0"
  }
 },
 "nbformat": 4,
 "nbformat_minor": 2
}
